{
 "cells": [
  {
   "cell_type": "code",
   "execution_count": 2,
   "metadata": {},
   "outputs": [],
   "source": [
    "import pandas as pd\n",
    "import matplotlib.pyplot as plt\n",
    "import numpy as np\n",
    "from sklearn.metrics import roc_auc_score, roc_curve, confusion_matrix, accuracy_score\n",
    "import seaborn as sns\n",
    "sns.set()"
   ]
  },
  {
   "cell_type": "code",
   "execution_count": 3,
   "metadata": {},
   "outputs": [],
   "source": [
    "models = [\"wavenet\", \"resnet_1\", \"resnet_2\", \"lstm\"]\n",
    "train = pd.read_csv('../../data/train.csv')\n",
    "human_mask = train['label_type'] == 'human'\n",
    "train_y = train[\"target\"][human_mask]"
   ]
  },
  {
   "cell_type": "code",
   "execution_count": 5,
   "metadata": {},
   "outputs": [
    {
     "data": {
      "text/plain": [
       "<Figure size 432x288 with 0 Axes>"
      ]
     },
     "metadata": {},
     "output_type": "display_data"
    }
   ],
   "source": [
    "for model in models:\n",
    "    val_pred = pd.read_csv('../../logs/{}/val_pred.csv'.format(model)).iloc[:, 1]\n",
    "    auc = roc_auc_score(train_y, val_pred)\n",
    "    acc = accuracy_score(train_y, np.round(val_pred))\n",
    "    cm = confusion_matrix(train_y, np.round(val_pred))\n",
    "    sns.heatmap(cm, annot=True, cmap='Blues')\n",
    "    plt.savefig(model + 'confusion_matrix.png')\n",
    "    plt.clf()\n",
    "    fpr, tpr, thresholds = roc_curve(train_y, val_pred)\n",
    "    label='auc = {:.3f} acc={:.3f}'.format(auc, acc)\n",
    "    plt.plot(fpr, tpr, label=label)\n",
    "    plt.xlabel('FPR: False positive rate')\n",
    "    plt.ylabel('TPR: True positive rate')\n",
    "    plt.title(model)\n",
    "    plt.legend()\n",
    "    plt.savefig(model + '.png')\n",
    "    plt.clf()"
   ]
  },
  {
   "cell_type": "code",
   "execution_count": null,
   "metadata": {},
   "outputs": [],
   "source": []
  },
  {
   "cell_type": "code",
   "execution_count": null,
   "metadata": {},
   "outputs": [],
   "source": []
  }
 ],
 "metadata": {
  "kernelspec": {
   "display_name": "Python 3",
   "language": "python",
   "name": "python3"
  },
  "language_info": {
   "codemirror_mode": {
    "name": "ipython",
    "version": 3
   },
   "file_extension": ".py",
   "mimetype": "text/x-python",
   "name": "python",
   "nbconvert_exporter": "python",
   "pygments_lexer": "ipython3",
   "version": "3.7.2"
  },
  "widgets": {
   "application/vnd.jupyter.widget-state+json": {
    "state": {},
    "version_major": 2,
    "version_minor": 0
   }
  }
 },
 "nbformat": 4,
 "nbformat_minor": 4
}
